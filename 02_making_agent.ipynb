{
  "nbformat": 4,
  "nbformat_minor": 0,
  "metadata": {
    "colab": {
      "provenance": [],
      "authorship_tag": "ABX9TyPYRRtLsMi1pMoXW3b6Z/Cv",
      "include_colab_link": true
    },
    "kernelspec": {
      "name": "python3",
      "display_name": "Python 3"
    },
    "language_info": {
      "name": "python"
    }
  },
  "cells": [
    {
      "cell_type": "markdown",
      "metadata": {
        "id": "view-in-github",
        "colab_type": "text"
      },
      "source": [
        "<a href=\"https://colab.research.google.com/github/HayyanWasi/openai-agent-learning/blob/main/02_making_agent.ipynb\" target=\"_parent\"><img src=\"https://colab.research.google.com/assets/colab-badge.svg\" alt=\"Open In Colab\"/></a>"
      ]
    },
    {
      "cell_type": "markdown",
      "source": [
        "**Making Agent**"
      ],
      "metadata": {
        "id": "m0_GU_T6SDfe"
      }
    },
    {
      "cell_type": "code",
      "execution_count": null,
      "metadata": {
        "collapsed": true,
        "id": "lKjc5eYDGj3t"
      },
      "outputs": [],
      "source": [
        "!pip install openai google-generativeai openai-agents python-dotenv"
      ]
    },
    {
      "cell_type": "code",
      "source": [
        "import nest_asyncio\n",
        "nest_asyncio.apply()"
      ],
      "metadata": {
        "id": "XRTV9GmwIU4-"
      },
      "execution_count": null,
      "outputs": []
    },
    {
      "cell_type": "code",
      "source": [
        "import os\n",
        "from agents import Agent, Runner, AsyncOpenAI, set_default_openai_client, set_tracing_disabled, OpenAIChatCompletionsModel\n",
        "from google.colab import userdata\n",
        "\n",
        "gemini_api_key = userdata.get('GEMINI_API_KEY')\n",
        "set_tracing_disabled(True)\n",
        "\n",
        "external_client = AsyncOpenAI(\n",
        "    api_key=gemini_api_key,\n",
        "    base_url=\"https://generativelanguage.googleapis.com/v1beta/\",\n",
        ")\n",
        "\n",
        "model = OpenAIChatCompletionsModel(\n",
        "    model=\"models/gemini-2.0-flash\",\n",
        "    openai_client=external_client\n",
        ")\n",
        "\n"
      ],
      "metadata": {
        "id": "ceeOGBOSItju"
      },
      "execution_count": null,
      "outputs": []
    },
    {
      "cell_type": "code",
      "source": [
        "agent =  Agent(\n",
        "    name=\"Assistant\",\n",
        "    instructions=\"you are helpful assistant\",\n",
        "    model=model\n",
        ")\n",
        "result =await Runner.run(agent,\"hello\")\n",
        "print(result.final_output)"
      ],
      "metadata": {
        "id": "rXlgcEY7N1L5"
      },
      "execution_count": null,
      "outputs": []
    },
    {
      "cell_type": "code",
      "source": [
        "joke_Agent = Agent(\n",
        "    name=\"joke agent\",\n",
        "    instructions='You are joke teller.you need to tell joke on given topic',\n",
        "    model=model\n",
        ")\n",
        "\n",
        "topic = \"AI\"\n",
        "result=await Runner.run(joke_Agent,topic)\n",
        "result.final_output\n",
        "\n",
        "language_agent = Agent(\n",
        "    name=\"Language Agent\",\n",
        "    instructions='youre a language expert. You are given a joke and you have to rewrite in different language'\n",
        ")\n",
        "\n",
        "#final output is the answer which which agent takes from LLM and if we donot use it we'll get an object which consists of raw data\n",
        "#Runner is a class and its method is run() which is used to run agent\n",
        "joke_result = await Runner.run(joke_Agent,topic)\n",
        "translated_result = await Runner.run(joke_Agent, f\"Translate this joke into Urdu: {joke_result.final_output}\")\n",
        "print(f\"original joke:\\n{joke_result.final_output}\")\n",
        "print(f\"Translated joke:\\n{translated_result.final_output}\")\n",
        "\n"
      ],
      "metadata": {
        "id": "C05IIbWVk-_E"
      },
      "execution_count": null,
      "outputs": []
    }
  ]
}