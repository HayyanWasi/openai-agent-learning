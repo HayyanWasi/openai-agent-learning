{
  "cells": [
    {
      "cell_type": "markdown",
      "metadata": {
        "id": "view-in-github",
        "colab_type": "text"
      },
      "source": [
        "<a href=\"https://colab.research.google.com/github/HayyanWasi/openai-agent-learning/blob/main/intro_to_agentSDK-30_April_2025.ipynb\" target=\"_parent\"><img src=\"https://colab.research.google.com/assets/colab-badge.svg\" alt=\"Open In Colab\"/></a>"
      ]
    },
    {
      "cell_type": "markdown",
      "source": [
        "# **Basic code for openai-agent sdk**"
      ],
      "metadata": {
        "id": "bYXKAws5F9zt"
      }
    },
    {
      "cell_type": "code",
      "execution_count": null,
      "metadata": {
        "id": "peWW-79ixi52"
      },
      "outputs": [],
      "source": [
        "!pip install openai google-generativeai openai-agents python-dotenv\n",
        "            #tools for working with ai, google special tool for gemini, helper tool work ai, hepls manage secret passwords(API keys)"
      ]
    },
    {
      "cell_type": "code",
      "execution_count": null,
      "metadata": {
        "id": "rYeq5lbszEK6"
      },
      "outputs": [],
      "source": [
        "#glasses to clearly show async code to colab\n",
        "import nest_asyncio\n",
        "nest_asyncio.apply()"
      ]
    },
    {
      "cell_type": "code",
      "execution_count": null,
      "metadata": {
        "collapsed": true,
        "id": "2JkUh1CsSPtV"
      },
      "outputs": [],
      "source": [
        "from agents import Agent, Runner, AsyncOpenAI, set_default_openai_client, set_tracing_disabled, OpenAIChatCompletionsModel\n",
        "\n",
        "#importing data for colab secrets\n",
        "from google.colab import userdata\n",
        "\n",
        "#targetting API key from secrets\n",
        "gemini_api_key = userdata.get('GEMINI_API_KEY')\n",
        "set_tracing_disabled(True) #its will record what user is doing\n",
        "\n",
        "#calling gemini LLM for response by using gemini api key\n",
        "external_client = AsyncOpenAI(\n",
        "    api_key=gemini_api_key,\n",
        "    base_url=\"https://generativelanguage.googleapis.com/v1beta/\",\n",
        ")\n",
        "\n",
        "# Explicitly sets the client for Gemini instead of default OpenAI\n",
        "# Required when using non-OpenAI models (e.g., Google Gemini)\n",
        "set_default_openai_client(external_client)\n",
        "\n",
        "#choosing brain\n",
        "model = OpenAIChatCompletionsModel(\n",
        "    model=\"models/gemini-2.0-flash\",\n",
        "    openai_client=external_client\n",
        ")"
      ]
    },
    {
      "cell_type": "code",
      "execution_count": null,
      "metadata": {
        "colab": {
          "base_uri": "https://localhost:8080/"
        },
        "id": "kEmwT1v5DiIS",
        "outputId": "b015f3e5-6792-4a65-b2b5-b1b92e3f291c"
      },
      "outputs": [
        {
          "output_type": "stream",
          "name": "stdout",
          "text": [
            "Hello! How can I help you today?\n",
            "\n"
          ]
        }
      ],
      "source": [
        "#setting up agent\n",
        "agent = Agent(\n",
        "    name=\"Assistant\",\n",
        "    instructions=\"You are a helpful assistant\",\n",
        "    model=model\n",
        ")\n",
        "#result\n",
        "result = Runner.run_sync(agent, \"hello\")\n",
        "print(result.final_output)"
      ]
    }
  ],
  "metadata": {
    "colab": {
      "provenance": [],
      "authorship_tag": "ABX9TyNrjUO3+zhkgvtDuOnk6EBJ",
      "include_colab_link": true
    },
    "kernelspec": {
      "display_name": "Python 3",
      "name": "python3"
    },
    "language_info": {
      "name": "python"
    }
  },
  "nbformat": 4,
  "nbformat_minor": 0
}