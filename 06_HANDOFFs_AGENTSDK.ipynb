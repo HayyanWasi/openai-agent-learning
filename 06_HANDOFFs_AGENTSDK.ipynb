{
  "nbformat": 4,
  "nbformat_minor": 0,
  "metadata": {
    "colab": {
      "provenance": [],
      "authorship_tag": "ABX9TyNDR+2josY2tXQaV7TlZYy/",
      "include_colab_link": true
    },
    "kernelspec": {
      "name": "python3",
      "display_name": "Python 3"
    },
    "language_info": {
      "name": "python"
    }
  },
  "cells": [
    {
      "cell_type": "markdown",
      "metadata": {
        "id": "view-in-github",
        "colab_type": "text"
      },
      "source": [
        "<a href=\"https://colab.research.google.com/github/HayyanWasi/openai-agent-learning/blob/main/06_HANDOFFs_AGENTSDK.ipynb\" target=\"_parent\"><img src=\"https://colab.research.google.com/assets/colab-badge.svg\" alt=\"Open In Colab\"/></a>"
      ]
    },
    {
      "cell_type": "markdown",
      "source": [
        "# **HAND-OFFS**\n",
        "Handoffs allow agent to invoke other agent which is specialized for specif work\n",
        "\n",
        "\n",
        "*   its is tool to the LLM\n",
        "\n",
        "\n"
      ],
      "metadata": {
        "id": "Iv9iEDYP2FG9"
      }
    },
    {
      "cell_type": "code",
      "execution_count": null,
      "metadata": {
        "id": "CdyPm6Er2EU2"
      },
      "outputs": [],
      "source": [
        "!pip install -Uq openai-agents openai google-generativeai openai-agents python-dotenv"
      ]
    },
    {
      "cell_type": "code",
      "source": [
        "import nest_asyncio\n",
        "nest_asyncio.apply()"
      ],
      "metadata": {
        "id": "baFIodQp3IOu"
      },
      "execution_count": null,
      "outputs": []
    },
    {
      "cell_type": "code",
      "source": [
        "from agents.run import RunConfig\n",
        "\n",
        "from google.colab import userdata\n",
        "gemini_api_key = userdata.get('GEMINI_API_KEY')\n",
        "\n",
        "external_client = AsyncOpenAI(\n",
        "    api_key = gemini_api_key,\n",
        "    base_url=\"https://generativelanguage.googleapis.com/v1beta\",\n",
        ")\n",
        "\n",
        "model= OpenAIChatCompletionsModel(\n",
        "    model='gemini-2.0-flash',\n",
        "    openai_client=external_client\n",
        ")\n",
        "\n",
        "config = RunConfig(\n",
        "    model=model,\n",
        "    model_provider=external_client,\n",
        "    tracing_disabled=True\n",
        ")"
      ],
      "metadata": {
        "id": "qO6N9sFJ3LLp"
      },
      "execution_count": null,
      "outputs": []
    },
    {
      "cell_type": "markdown",
      "source": [
        "# **Creating Handoffs**"
      ],
      "metadata": {
        "id": "rUwebTb43RWJ"
      }
    },
    {
      "cell_type": "code",
      "source": [
        "refund_agent = Agent(\n",
        "    name =\"refund agent\",\n",
        "    instructions=\"you are an rfund agent and your goal is to refund money\",\n",
        "    model=model\n",
        ")\n",
        "\n",
        "billing_agent = Agent(\n",
        "    name=\"billing agent\",\n",
        "    instructions=\"you are an billin agent and your goal is to manage and clear bills\",\n",
        "    model=model\n",
        ")\n",
        "#triage agent is used to delegate task either the refund agent or the billing agent\n",
        "triage_agent = Agent(\n",
        "    name=\"triage agent\",\n",
        "    instructions=\"You determine which agent should handle the user's request based on the nature of the inquiry.\",\n",
        "    model=model,\n",
        "    handoffs=[billing_agent,refund_agent]\n",
        ")\n",
        "\n",
        "async def main():\n",
        "  user_input=\"what is my bill\"\n",
        "  result = await Runner.run(triage_agent, user_input)\n",
        "  print(result.final_output)\n",
        "\n",
        "import asyncio\n",
        "asyncio.run(main())\n",
        "\n",
        "\n"
      ],
      "metadata": {
        "colab": {
          "base_uri": "https://localhost:8080/"
        },
        "id": "9v4Y98bX3kF2",
        "outputId": "ec0adba5-0a69-4ece-f6e2-2ff9c7b47b4b"
      },
      "execution_count": null,
      "outputs": [
        {
          "output_type": "stream",
          "name": "stdout",
          "text": [
            "Okay, I'm now in billing agent mode. To find your bill, I need some information.  Could you please provide me with one of the following:\n",
            "\n",
            "*   **Your account number:** This is the most direct way for me to access your billing information.\n",
            "*   **Your name and address:** This will help me locate your account.\n",
            "*   **The service you're being billed for:** (e.g., internet, electricity, etc.) and the provider's name.\n",
            "\n"
          ]
        }
      ]
    }
  ]
}