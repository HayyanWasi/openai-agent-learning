{
  "nbformat": 4,
  "nbformat_minor": 0,
  "metadata": {
    "colab": {
      "provenance": [],
      "authorship_tag": "ABX9TyO5zIB7Dh/BbBnY46OxnR7f",
      "include_colab_link": true
    },
    "kernelspec": {
      "name": "python3",
      "display_name": "Python 3"
    },
    "language_info": {
      "name": "python"
    }
  },
  "cells": [
    {
      "cell_type": "markdown",
      "metadata": {
        "id": "view-in-github",
        "colab_type": "text"
      },
      "source": [
        "<a href=\"https://colab.research.google.com/github/HayyanWasi/openai-agent-learning/blob/main/07_HANDOFFS_AGENTSDK.ipynb\" target=\"_parent\"><img src=\"https://colab.research.google.com/assets/colab-badge.svg\" alt=\"Open In Colab\"/></a>"
      ]
    },
    {
      "cell_type": "code",
      "execution_count": 30,
      "metadata": {
        "colab": {
          "base_uri": "https://localhost:8080/"
        },
        "id": "B4Bp8N3Q__Mc",
        "outputId": "388f4304-76b0-4c65-af11-671da4ba4021"
      },
      "outputs": [
        {
          "output_type": "stream",
          "name": "stdout",
          "text": [
            "Requirement already satisfied: openai in /usr/local/lib/python3.11/dist-packages (1.78.0)\n",
            "Requirement already satisfied: google-generativeai in /usr/local/lib/python3.11/dist-packages (0.8.5)\n",
            "Requirement already satisfied: openai-agents in /usr/local/lib/python3.11/dist-packages (0.0.14)\n",
            "Requirement already satisfied: python-dotenv in /usr/local/lib/python3.11/dist-packages (1.1.0)\n",
            "Requirement already satisfied: anyio<5,>=3.5.0 in /usr/local/lib/python3.11/dist-packages (from openai) (4.9.0)\n",
            "Requirement already satisfied: distro<2,>=1.7.0 in /usr/local/lib/python3.11/dist-packages (from openai) (1.9.0)\n",
            "Requirement already satisfied: httpx<1,>=0.23.0 in /usr/local/lib/python3.11/dist-packages (from openai) (0.28.1)\n",
            "Requirement already satisfied: jiter<1,>=0.4.0 in /usr/local/lib/python3.11/dist-packages (from openai) (0.9.0)\n",
            "Requirement already satisfied: pydantic<3,>=1.9.0 in /usr/local/lib/python3.11/dist-packages (from openai) (2.11.4)\n",
            "Requirement already satisfied: sniffio in /usr/local/lib/python3.11/dist-packages (from openai) (1.3.1)\n",
            "Requirement already satisfied: tqdm>4 in /usr/local/lib/python3.11/dist-packages (from openai) (4.67.1)\n",
            "Requirement already satisfied: typing-extensions<5,>=4.11 in /usr/local/lib/python3.11/dist-packages (from openai) (4.13.2)\n",
            "Requirement already satisfied: google-ai-generativelanguage==0.6.15 in /usr/local/lib/python3.11/dist-packages (from google-generativeai) (0.6.15)\n",
            "Requirement already satisfied: google-api-core in /usr/local/lib/python3.11/dist-packages (from google-generativeai) (2.24.2)\n",
            "Requirement already satisfied: google-api-python-client in /usr/local/lib/python3.11/dist-packages (from google-generativeai) (2.169.0)\n",
            "Requirement already satisfied: google-auth>=2.15.0 in /usr/local/lib/python3.11/dist-packages (from google-generativeai) (2.38.0)\n",
            "Requirement already satisfied: protobuf in /usr/local/lib/python3.11/dist-packages (from google-generativeai) (5.29.4)\n",
            "Requirement already satisfied: proto-plus<2.0.0dev,>=1.22.3 in /usr/local/lib/python3.11/dist-packages (from google-ai-generativelanguage==0.6.15->google-generativeai) (1.26.1)\n",
            "Requirement already satisfied: griffe<2,>=1.5.6 in /usr/local/lib/python3.11/dist-packages (from openai-agents) (1.7.3)\n",
            "Requirement already satisfied: mcp<2,>=1.6.0 in /usr/local/lib/python3.11/dist-packages (from openai-agents) (1.8.1)\n",
            "Requirement already satisfied: requests<3,>=2.0 in /usr/local/lib/python3.11/dist-packages (from openai-agents) (2.32.3)\n",
            "Requirement already satisfied: types-requests<3,>=2.0 in /usr/local/lib/python3.11/dist-packages (from openai-agents) (2.32.0.20250328)\n",
            "Requirement already satisfied: idna>=2.8 in /usr/local/lib/python3.11/dist-packages (from anyio<5,>=3.5.0->openai) (3.10)\n",
            "Requirement already satisfied: googleapis-common-protos<2.0.0,>=1.56.2 in /usr/local/lib/python3.11/dist-packages (from google-api-core->google-generativeai) (1.70.0)\n",
            "Requirement already satisfied: cachetools<6.0,>=2.0.0 in /usr/local/lib/python3.11/dist-packages (from google-auth>=2.15.0->google-generativeai) (5.5.2)\n",
            "Requirement already satisfied: pyasn1-modules>=0.2.1 in /usr/local/lib/python3.11/dist-packages (from google-auth>=2.15.0->google-generativeai) (0.4.2)\n",
            "Requirement already satisfied: rsa<5,>=3.1.4 in /usr/local/lib/python3.11/dist-packages (from google-auth>=2.15.0->google-generativeai) (4.9.1)\n",
            "Requirement already satisfied: colorama>=0.4 in /usr/local/lib/python3.11/dist-packages (from griffe<2,>=1.5.6->openai-agents) (0.4.6)\n",
            "Requirement already satisfied: certifi in /usr/local/lib/python3.11/dist-packages (from httpx<1,>=0.23.0->openai) (2025.4.26)\n",
            "Requirement already satisfied: httpcore==1.* in /usr/local/lib/python3.11/dist-packages (from httpx<1,>=0.23.0->openai) (1.0.9)\n",
            "Requirement already satisfied: h11>=0.16 in /usr/local/lib/python3.11/dist-packages (from httpcore==1.*->httpx<1,>=0.23.0->openai) (0.16.0)\n",
            "Requirement already satisfied: httpx-sse>=0.4 in /usr/local/lib/python3.11/dist-packages (from mcp<2,>=1.6.0->openai-agents) (0.4.0)\n",
            "Requirement already satisfied: pydantic-settings>=2.5.2 in /usr/local/lib/python3.11/dist-packages (from mcp<2,>=1.6.0->openai-agents) (2.9.1)\n",
            "Requirement already satisfied: python-multipart>=0.0.9 in /usr/local/lib/python3.11/dist-packages (from mcp<2,>=1.6.0->openai-agents) (0.0.20)\n",
            "Requirement already satisfied: sse-starlette>=1.6.1 in /usr/local/lib/python3.11/dist-packages (from mcp<2,>=1.6.0->openai-agents) (2.3.5)\n",
            "Requirement already satisfied: starlette>=0.27 in /usr/local/lib/python3.11/dist-packages (from mcp<2,>=1.6.0->openai-agents) (0.46.2)\n",
            "Requirement already satisfied: uvicorn>=0.23.1 in /usr/local/lib/python3.11/dist-packages (from mcp<2,>=1.6.0->openai-agents) (0.34.2)\n",
            "Requirement already satisfied: annotated-types>=0.6.0 in /usr/local/lib/python3.11/dist-packages (from pydantic<3,>=1.9.0->openai) (0.7.0)\n",
            "Requirement already satisfied: pydantic-core==2.33.2 in /usr/local/lib/python3.11/dist-packages (from pydantic<3,>=1.9.0->openai) (2.33.2)\n",
            "Requirement already satisfied: typing-inspection>=0.4.0 in /usr/local/lib/python3.11/dist-packages (from pydantic<3,>=1.9.0->openai) (0.4.0)\n",
            "Requirement already satisfied: charset-normalizer<4,>=2 in /usr/local/lib/python3.11/dist-packages (from requests<3,>=2.0->openai-agents) (3.4.2)\n",
            "Requirement already satisfied: urllib3<3,>=1.21.1 in /usr/local/lib/python3.11/dist-packages (from requests<3,>=2.0->openai-agents) (2.4.0)\n",
            "Requirement already satisfied: httplib2<1.0.0,>=0.19.0 in /usr/local/lib/python3.11/dist-packages (from google-api-python-client->google-generativeai) (0.22.0)\n",
            "Requirement already satisfied: google-auth-httplib2<1.0.0,>=0.2.0 in /usr/local/lib/python3.11/dist-packages (from google-api-python-client->google-generativeai) (0.2.0)\n",
            "Requirement already satisfied: uritemplate<5,>=3.0.1 in /usr/local/lib/python3.11/dist-packages (from google-api-python-client->google-generativeai) (4.1.1)\n",
            "Requirement already satisfied: grpcio<2.0dev,>=1.33.2 in /usr/local/lib/python3.11/dist-packages (from google-api-core[grpc]!=2.0.*,!=2.1.*,!=2.10.*,!=2.2.*,!=2.3.*,!=2.4.*,!=2.5.*,!=2.6.*,!=2.7.*,!=2.8.*,!=2.9.*,<3.0.0dev,>=1.34.1->google-ai-generativelanguage==0.6.15->google-generativeai) (1.71.0)\n",
            "Requirement already satisfied: grpcio-status<2.0.dev0,>=1.33.2 in /usr/local/lib/python3.11/dist-packages (from google-api-core[grpc]!=2.0.*,!=2.1.*,!=2.10.*,!=2.2.*,!=2.3.*,!=2.4.*,!=2.5.*,!=2.6.*,!=2.7.*,!=2.8.*,!=2.9.*,<3.0.0dev,>=1.34.1->google-ai-generativelanguage==0.6.15->google-generativeai) (1.71.0)\n",
            "Requirement already satisfied: pyparsing!=3.0.0,!=3.0.1,!=3.0.2,!=3.0.3,<4,>=2.4.2 in /usr/local/lib/python3.11/dist-packages (from httplib2<1.0.0,>=0.19.0->google-api-python-client->google-generativeai) (3.2.3)\n",
            "Requirement already satisfied: pyasn1<0.7.0,>=0.6.1 in /usr/local/lib/python3.11/dist-packages (from pyasn1-modules>=0.2.1->google-auth>=2.15.0->google-generativeai) (0.6.1)\n",
            "Requirement already satisfied: click>=7.0 in /usr/local/lib/python3.11/dist-packages (from uvicorn>=0.23.1->mcp<2,>=1.6.0->openai-agents) (8.1.8)\n"
          ]
        }
      ],
      "source": [
        "!pip install openai google-generativeai openai-agents python-dotenv\n"
      ]
    },
    {
      "cell_type": "code",
      "source": [
        "import nest_asyncio\n",
        "nest_asyncio.apply()"
      ],
      "metadata": {
        "id": "pSSpNAWbBP0U"
      },
      "execution_count": null,
      "outputs": []
    },
    {
      "cell_type": "code",
      "source": [
        "from agents import Agent, Runner, AsyncOpenAI, set_default_openai_client, set_tracing_disabled, OpenAIChatCompletionsModel, RunConfig\n",
        "import os\n",
        "\n",
        "\n",
        "from google.colab import userdata\n",
        "\n",
        "\n",
        "gemini_api_key = userdata.get('GEMINI_API_KEY')\n",
        "set_tracing_disabled(True)\n",
        "\n",
        "external_client = AsyncOpenAI(\n",
        "    api_key=gemini_api_key,\n",
        "    base_url=\"https://generativelanguage.googleapis.com/v1beta/\",\n",
        ")\n",
        "\n",
        "\n",
        "set_default_openai_client(external_client)\n",
        "\n",
        "\n",
        "model = OpenAIChatCompletionsModel(\n",
        "    model=\"models/gemini-2.0-flash\",\n",
        "    openai_client=external_client\n",
        ")\n",
        "\n",
        "config = RunConfig(\n",
        "    model=model,\n",
        "    model_provider=external_client,\n",
        "    tracing_disabled=True\n",
        "    )\n"
      ],
      "metadata": {
        "id": "WufQil6dBSR3"
      },
      "execution_count": 31,
      "outputs": []
    },
    {
      "cell_type": "code",
      "source": [
        "from pydantic import BaseModel\n",
        "\n",
        "class Tutorial(BaseModel):\n",
        "  outline:str\n",
        "  tutorial:str\n",
        "\n",
        "\n",
        "\n",
        "#model which is used by the agent to generate tutorial\n",
        "tutorial_genrator = Agent(\n",
        "    name=\"Tutorial Generator\",\n",
        "    handoffs_description = \"this is used for making tutorials based on outline builder\", #use for precision in decision making\n",
        "    instructions=\"your are You are TutorialGPT, an expert in generating clear, structured, and engaging tutorials on any topic. Your job is to create high-quality step-by-step tutorials tailored to the target audience’s skill level (beginner, intermediate, or advanced).\",\n",
        "    model=model,\n",
        "    output_type=Tutorial\n",
        ")\n",
        "#used to generate outline after completing its work it can handoff its control to tutorial_generator to make tutorial around the outline after giving handoff an agent can not be return bacl\n",
        "outline_builder= Agent(\n",
        "    name=\"outline border\",\n",
        "    instructions=(\"You are OutlineGPT, an expert assistant that creates well-structured, logical outlines for programming tutorials.\"\n",
        "    \"Your task is to generate detailed tutorial outlines on any programming topic (language, framework, tool, or concept) based on the user’s input.\"),\n",
        "    handoffs=[tutorial_genrator], #using handoff\n",
        "    model=model\n",
        ")\n",
        "tutorial_response = await Runner.run(outline_builder,\"i want to learn  loops in java\")\n",
        "print(tutorial_response.final_output)"
      ],
      "metadata": {
        "colab": {
          "base_uri": "https://localhost:8080/"
        },
        "id": "ilSnGAPHBcBY",
        "outputId": "0822221d-ef21-4109-f129-7b404ec0bcad"
      },
      "execution_count": 33,
      "outputs": [
        {
          "output_type": "stream",
          "name": "stdout",
          "text": [
            "outline='I. Introduction to Loops in Java\\n   A. What are loops and why are they important?\\n   B. Types of loops in Java: `for`, `while`, and `do-while`\\n   C. Basic syntax and structure of each loop type\\n\\nII. The `for` Loop\\n   A. Syntax and components of the `for` loop (initialization, condition, increment/decrement)\\n   B. Examples of using `for` loops to iterate a specific number of times\\n   C. Using `for` loops with arrays and collections\\n   D. Nested `for` loops\\n   E. Common mistakes and how to avoid them\\n\\nIII. The `while` Loop\\n   A. Syntax and components of the `while` loop (condition)\\n   B. Examples of using `while` loops when the number of iterations is unknown\\n   C. Using `while` loops with boolean flags\\n   D. Common mistakes and how to avoid them (infinite loops)\\n\\nIV. The `do-while` Loop\\n   A. Syntax and components of the `do-while` loop (condition)\\n   B. Key difference between `while` and `do-while` loops (guaranteed execution at least once)\\n   C. Examples of using `do-while` loops\\n   D. Common mistakes and how to avoid them\\n\\nV. Loop Control Statements\\n   A. `break` statement: How to exit a loop prematurely\\n   B. `continue` statement: How to skip an iteration\\n   C. Examples of using `break` and `continue` statements\\n\\nVI. Enhanced `for` Loop (for-each Loop)\\n   A. Syntax and usage of the enhanced `for` loop\\n   B. Iterating through arrays and collections with the enhanced `for` loop\\n   C. Advantages and limitations of the enhanced `for` loop\\n\\nVII. Best Practices for Using Loops\\n    A. Choosing the right loop type for the task\\n    B. Avoiding common loop errors (off-by-one errors, infinite loops)\\n    C. Optimizing loop performance\\n\\nVIII. Practice Exercises\\n    A. Simple looping exercises\\n    B. More complex problems involving nested loops and control statements\\n\\nIX. Conclusion\\n    A. Recap of the main concepts\\n    B. Further resources for learning more about loops in Java' tutorial='## I. Introduction to Loops in Java\\n\\n### A. What are loops and why are they important?\\n\\nIn programming, loops are control structures that allow you to execute a block of code repeatedly. They are fundamental because they automate repetitive tasks, saving time and effort. Imagine needing to print the numbers from 1 to 100 without loops – it would require 100 lines of code! Loops make such tasks simple and efficient.\\n\\n### B. Types of loops in Java: `for`, `while`, and `do-while`\\n\\nJava provides three main types of loops:\\n\\n1.  **`for` loop:** Used when you know in advance how many times you want to execute a block of code.\\n2.  **`while` loop:** Used when you want to execute a block of code as long as a certain condition is true.\\n3.  **`do-while` loop:** Similar to the `while` loop, but it guarantees that the block of code is executed at least once.\\n\\n### C. Basic syntax and structure of each loop type\\n\\n*   **`for` loop:**\\n    ```java\\n    for (initialization; condition; increment/decrement) {\\n        // Code to be executed\\n    }\\n    ```\\n*   **`while` loop:**\\n    ```java\\n    while (condition) {\\n        // Code to be executed\\n    }\\n    ```\\n*   **`do-while` loop:**\\n    ```java\\n    do {\\n        // Code to be executed\\n    } while (condition);\\n    ```\\n\\n## II. The `for` Loop\\n\\n### A. Syntax and components of the `for` loop (initialization, condition, increment/decrement)\\n\\nThe `for` loop consists of three main parts:\\n\\n1.  **Initialization:** Executed only once at the beginning of the loop. It\\'s typically used to declare and initialize a counter variable.\\n2.  **Condition:** Evaluated before each iteration. If it\\'s true, the loop body is executed; otherwise, the loop terminates.\\n3.  **Increment/Decrement:** Executed after each iteration. It\\'s usually used to update the counter variable.\\n\\n### B. Examples of using `for` loops to iterate a specific number of times\\n\\n```java\\npublic class ForLoopExample {\\n    public static void main(String[] args) {\\n        // Print numbers from 1 to 5\\n        for (int i = 1; i <= 5; i++) {\\n            System.out.println(\"Number: \" + i);\\n        }\\n    }\\n}\\n```\\n\\nThis code initializes `i` to 1, checks if `i` is less than or equal to 5, prints the value of `i`, and then increments `i` by 1. This process repeats until `i` becomes 6, at which point the loop terminates.\\n\\n### C. Using `for` loops with arrays and collections\\n\\n```java\\npublic class ForLoopArrayExample {\\n    public static void main(String[] args) {\\n        int[] numbers = {10, 20, 30, 40, 50};\\n\\n        // Iterate through the array\\n        for (int i = 0; i < numbers.length; i++) {\\n            System.out.println(\"Element at index \" + i + \": \" + numbers[i]);\\n        }\\n    }\\n}\\n```\\n\\nThis example iterates through an array using the `for` loop.  `numbers.length` provides the size of the array, ensuring the loop iterates through each element.\\n\\n### D. Nested `for` loops\\n\\nNested `for` loops are loops inside other loops. They are useful for iterating over multi-dimensional arrays or performing complex repetitive tasks.\\n\\n```java\\npublic class NestedForLoopExample {\\n    public static void main(String[] args) {\\n        // Print a 3x3 matrix\\n        for (int i = 1; i <= 3; i++) {\\n            for (int j = 1; j <= 3; j++) {\\n                System.out.print(i + \",\" + j + \" \");\\n            }\\n            System.out.println(); // Move to the next line after each row\\n        }\\n    }\\n}\\n```\\n\\nThis code prints a matrix where the outer loop controls the rows, and the inner loop controls the columns.\\n\\n### E. Common mistakes and how to avoid them\\n\\n*   **Off-by-one errors:** Ensure the loop condition is correct to avoid iterating one too many or one too few times.\\n*   **Incorrect initialization:** Initialize the counter variable properly to start the loop at the desired value.\\n*   **Forgetting to update the counter:** Make sure the increment/decrement part is present to avoid infinite loops.\\n\\n## III. The `while` Loop\\n\\n### A. Syntax and components of the `while` loop (condition)\\n\\nThe `while` loop executes a block of code as long as a specified condition is true.\\n\\n```java\\nwhile (condition) {\\n    // Code to be executed\\n}\\n```\\n\\n### B. Examples of using `while` loops when the number of iterations is unknown\\n\\n```java\\nimport java.util.Scanner;\\n\\npublic class WhileLoopExample {\\n    public static void main(String[] args) {\\n        Scanner scanner = new Scanner(System.in);\\n        int number = 0;\\n\\n        // Keep asking for input until the user enters a negative number\\n        while (number >= 0) {\\n            System.out.print(\"Enter a positive number (or a negative number to quit): \");\\n            number = scanner.nextInt();\\n            if (number >= 0) {\\n                System.out.println(\"You entered: \" + number);\\n            }\\n        }\\n\\n        System.out.println(\"Exiting...\");\\n        scanner.close();\\n    }\\n}\\n```\\n\\nIn this example, the loop continues until the user enters a negative number.\\n\\n### C. Using `while` loops with boolean flags\\n\\n```java\\npublic class WhileLoopFlagExample {\\n    public static void main(String[] args) {\\n        boolean running = true;\\n        int counter = 0;\\n\\n        while (running) {\\n            System.out.println(\"Counter: \" + counter);\\n            counter++;\\n\\n            if (counter > 5) {\\n                running = false; // Set the flag to false to exit the loop\\n            }\\n        }\\n\\n        System.out.println(\"Loop finished.\");\\n    }\\n}\\n```\\n\\nHere, a boolean flag `running` controls the execution of the loop. When `counter` exceeds 5, the flag is set to `false`, and the loop terminates.\\n\\n### D. Common mistakes and how to avoid them (infinite loops)\\n\\n*   **Infinite loops:** Ensure the condition eventually becomes false to avoid the loop running indefinitely. This is a common mistake, so double-check your loop\\'s logic.\\n*   **Incorrect condition:** Verify the condition accurately reflects the desired behavior.\\n\\n## IV. The `do-while` Loop\\n\\n### A. Syntax and components of the `do-while` loop (condition)\\n\\nThe `do-while` loop is similar to the `while` loop, but it guarantees that the loop body is executed at least once before the condition is checked.\\n\\n```java\\ndo {\\n    // Code to be executed\\n} while (condition);\\n```\\n\\n### B. Key difference between `while` and `do-while` loops (guaranteed execution at least once)\\n\\nThe main difference is that the `do-while` loop\\'s code block is always executed once, regardless of the initial condition, because the condition is checked *after* the execution.\\n\\n### C. Examples of using `do-while` loops\\n\\n```java\\nimport java.util.Scanner;\\n\\npublic class DoWhileLoopExample {\\n    public static void main(String[] args) {\\n        Scanner scanner = new Scanner(System.in);\\n        int number;\\n\\n        // Prompt the user to enter a number until it\\'s greater than 10\\n        do {\\n            System.out.print(\"Enter a number greater than 10: \");\\n            number = scanner.nextInt();\\n        } while (number <= 10);\\n\\n        System.out.println(\"You entered: \" + number);\\n        scanner.close();\\n    }\\n}\\n```\\n\\nThis example ensures the user is prompted for a number at least once, even if they initially enter a number greater than 10.\\n\\n### D. Common mistakes and how to avoid them\\n\\n*   **Forgetting the semicolon:** The `do-while` loop requires a semicolon after the `while (condition)` part.\\n*   **Infinite loops:** Ensure the condition eventually becomes false to avoid the loop running indefinitely.\\n\\n## V. Loop Control Statements\\n\\n### A. `break` statement: How to exit a loop prematurely\\n\\nThe `break` statement is used to exit a loop before its normal completion. It\\'s often used when a specific condition is met within the loop.\\n\\n### B. `continue` statement: How to skip an iteration\\n\\nThe `continue` statement skips the rest of the current iteration and proceeds to the next iteration of the loop.\\n\\n### C. Examples of using `break` and `continue` statements\\n\\n```java\\npublic class BreakContinueExample {\\n    public static void main(String[] args) {\\n        // Example using break\\n        for (int i = 1; i <= 10; i++) {\\n            if (i == 5) {\\n                break; // Exit the loop when i is 5\\n            }\\n            System.out.println(\"i (break): \" + i);\\n        }\\n\\n        // Example using continue\\n        for (int i = 1; i <= 10; i++) {\\n            if (i % 2 == 0) {\\n                continue; // Skip even numbers\\n            }\\n            System.out.println(\"i (continue): \" + i);\\n        }\\n    }\\n}\\n```\\n\\nThe `break` statement terminates the first loop when `i` is 5. The `continue` statement skips even numbers in the second loop, printing only odd numbers.\\n\\n## VI. Enhanced `for` Loop (for-each Loop)\\n\\n### A. Syntax and usage of the enhanced `for` loop\\n\\nThe enhanced `for` loop, also known as the for-each loop, provides a simplified way to iterate through arrays and collections.\\n\\n```java\\nfor (DataType item : collection) {\\n    // Code to be executed\\n}\\n```\\n\\n### B. Iterating through arrays and collections with the enhanced `for` loop\\n\\n```java\\nimport java.util.ArrayList;\\nimport java.util.List;\\n\\npublic class EnhancedForLoopExample {\\n    public static void main(String[] args) {\\n        // Example with an array\\n        String[] names = {\"Alice\", \"Bob\", \"Charlie\"};\\n        for (String name : names) {\\n            System.out.println(\"Name: \" + name);\\n        }\\n\\n        // Example with a List\\n        List<Integer> numbers = new ArrayList<>();\\n        numbers.add(1); numbers.add(2); numbers.add(3);\\n        for (int number : numbers) {\\n            System.out.println(\"Number: \" + number);\\n        }\\n    }\\n}\\n```\\n\\n### C. Advantages and limitations of the enhanced `for` loop\\n\\n*   **Advantages:** Simpler syntax, less error-prone, and easier to read.\\n*   **Limitations:** Cannot access the index of the element, cannot modify the collection while iterating.\\n\\n## VII. Best Practices for Using Loops\\n\\n### A. Choosing the right loop type for the task\\n\\n*   Use `for` loops when you know the number of iterations in advance.\\n*   Use `while` loops when you need to repeat a block of code until a condition becomes false, and the number of iterations is unknown.\\n*   Use `do-while` loops when you need to execute a block of code at least once, regardless of the initial condition.\\n*   Use enhanced `for` loops for simple iteration over arrays and collections when you don\\'t need the index.\\n\\n### B. Avoiding common loop errors (off-by-one errors, infinite loops)\\n\\n*   Double-check your loop conditions to avoid off-by-one errors.\\n*   Ensure that the loop condition eventually becomes false to prevent infinite loops.\\n\\n### C. Optimizing loop performance\\n\\n*   Minimize computations inside the loop.\\n*   Use appropriate data structures for efficient iteration.\\n*   Avoid unnecessary object creation within the loop.\\n\\n## VIII. Practice Exercises\\n\\n### A. Simple looping exercises\\n\\n1.  Write a `for` loop to print the even numbers from 2 to 20.\\n2.  Write a `while` loop to calculate the sum of numbers from 1 to 10.\\n3.  Write a `do-while` loop to prompt the user for a password until they enter the correct password.\\n\\n### B. More complex problems involving nested loops and control statements\\n\\n1.  Write a program to print a multiplication table (e.g., up to 10x10) using nested `for` loops.\\n2.  Write a program to find the prime numbers between 1 and 100 using nested loops and control statements.\\n\\n## IX. Conclusion\\n\\n### A. Recap of the main concepts\\n\\nLoops are essential control structures in Java that allow you to execute code repeatedly. The main types of loops are `for`, `while`, and `do-while`. Loop control statements like `break` and `continue` provide additional control over loop execution. The enhanced `for` loop simplifies iteration over arrays and collections.\\n\\n### B. Further resources for learning more about loops in Java\\n\\n*   Oracle\\'s Java Tutorials: [https://docs.oracle.com/javase/tutorial/](https://docs.oracle.com/javase/tutorial/)\\n*   GeeksforGeeks: [https://www.geeksforgeeks.org/](https://www.geeksforgeeks.org/)\\n*   Tutorialspoint: [https://www.tutorialspoint.com/java/index.htm](https://www.tutorialspoint.com/java/index.htm)'\n"
          ]
        }
      ]
    },
    {
      "cell_type": "code",
      "source": [
        "# from agents import function_tool,handoff\n",
        "from agents import function_tool,Agent, Runner, handoff, AssistantAgent\n",
        "from pydantic import BaseModel\n",
        "\n",
        "# Step 1: Define data model for handoff to manager\n",
        "class ManagerEscalation(BaseModel):\n",
        "    issue: str  # Issue being escalated\n",
        "    why: str    # Why it can't be handled by current agent\n",
        "\n",
        "# Step 2: Create a function tool to simulate ticket creation\n",
        "@function_tool\n",
        "def create_ticket(issue: str):\n",
        "    \"\"\"\n",
        "    Create a ticket in the system for an issue to be resolved.\n",
        "    \"\"\"\n",
        "    print(f\"Creating ticket for issue: {issue}\")\n",
        "    return \"Ticket created. ID: 12345\"\n",
        "    # In production, integrate with an actual ticketing system\n",
        "\n",
        "# Step 3: Define Manager agent\n",
        "manager_agent = Agent(\n",
        "    name=\"Manager\",\n",
        "    handoff_description=\"Handles escalated issues that require managerial attention\",\n",
        "    instructions=(\n",
        "        \"You handle escalated customer issues that the initial customer service agent could not resolve. \"\n",
        "        \"You will receive the issue and the reason for escalation. If the issue cannot be immediately resolved for the \"\n",
        "        \"customer, create a ticket in the system and inform the customer.\"\n",
        "    ),\n",
        "    tools=[create_ticket],\n",
        ")\n",
        "\n",
        "# Step 4: Define what happens during handoff\n",
        "def on_manager_handoff(ctx, input: ManagerEscalation):\n",
        "    print(\"Escalating to manager agent:\", input.issue)\n",
        "    print(\"Reason for escalation:\", input.why)\n",
        "    # Optional: log to a DB or monitoring tool here\n",
        "\n",
        "# Step 5: Define Customer Service agent\n",
        "customer_service_agent = Agent(\n",
        "    name=\"Customer Service\",\n",
        "    instructions=(\n",
        "        \"You assist customers with general inquiries and basic troubleshooting. \"\n",
        "        \"If the issue cannot be resolved, escalate it to the Manager along with the reason why you cannot fix the issue yourself.\"\n",
        "    ),\n",
        "    handoffs=[\n",
        "        handoff(\n",
        "            agent=manager_agent,\n",
        "            input_type=ManagerEscalation,\n",
        "            on_handoff=on_manager_handoff,\n",
        "        )\n",
        "    ],\n",
        ")\n",
        "\n",
        "# Step 6: Define the root AssistantAgent and include other agents\n",
        "assistant = AssistantAgent(\n",
        "    name=\"Support Assistant\",\n",
        "    instructions=\"You route customer issues to the appropriate agent for resolution.\",\n",
        "    agents=[customer_service_agent, manager_agent],\n",
        ")\n",
        "\n",
        "# Step 7: Run the assistant with a customer query\n",
        "result = await Runner.run(assistant,\n",
        "    \"I want a refund, but your system won't let me process it. The website is just blank for me.\")\n",
        "\n",
        "# Step 8: Show the final result\n",
        "print(result.final_output)\n"
      ],
      "metadata": {
        "id": "1vr4764P_VIJ"
      },
      "execution_count": null,
      "outputs": []
    }
  ]
}