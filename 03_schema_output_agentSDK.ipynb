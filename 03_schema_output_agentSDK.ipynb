{
  "nbformat": 4,
  "nbformat_minor": 0,
  "metadata": {
    "colab": {
      "provenance": [],
      "authorship_tag": "ABX9TyNLzI/FM9pObVA5hdCB4Apg",
      "include_colab_link": true
    },
    "kernelspec": {
      "name": "python3",
      "display_name": "Python 3"
    },
    "language_info": {
      "name": "python"
    }
  },
  "cells": [
    {
      "cell_type": "markdown",
      "metadata": {
        "id": "view-in-github",
        "colab_type": "text"
      },
      "source": [
        "<a href=\"https://colab.research.google.com/github/HayyanWasi/openai-agent-learning/blob/main/03_schema_output_agentSDK.ipynb\" target=\"_parent\"><img src=\"https://colab.research.google.com/assets/colab-badge.svg\" alt=\"Open In Colab\"/></a>"
      ]
    },
    {
      "cell_type": "markdown",
      "source": [
        "**getting structured outputs from agents in JSON form**"
      ],
      "metadata": {
        "id": "CrmsUXtsUcZz"
      }
    },
    {
      "cell_type": "code",
      "execution_count": null,
      "metadata": {
        "collapsed": true,
        "id": "WHChGYsqT1o-"
      },
      "outputs": [],
      "source": [
        "!pip install openai google-generativeai openai-agents python-dotenv"
      ]
    },
    {
      "cell_type": "code",
      "source": [
        "import nest_asyncio\n",
        "nest_asyncio.apply()"
      ],
      "metadata": {
        "id": "uyLnK9qKnqxY"
      },
      "execution_count": 71,
      "outputs": []
    },
    {
      "cell_type": "code",
      "source": [
        "import os\n",
        "from agents import Agent, Runner, AsyncOpenAI, set_default_openai_client, set_tracing_disabled, OpenAIChatCompletionsModel\n",
        "from google.colab import userdata\n",
        "from pydantic import BaseModel\n",
        "\n",
        "\n",
        "gemini_api_key = userdata.get('GEMINI_API_KEY')\n",
        "set_tracing_disabled(True)\n",
        "\n",
        "external_client = AsyncOpenAI(\n",
        "    api_key=gemini_api_key,\n",
        "    base_url=\"https://generativelanguage.googleapis.com/v1beta/\",\n",
        ")\n",
        "\n",
        "model = OpenAIChatCompletionsModel(\n",
        "    model=\"models/gemini-2.0-flash\",\n",
        "    openai_client=external_client\n",
        ")\n",
        "agent = Agent(\n",
        "    name=\"basic model\",\n",
        "    instructions=\"basi model\",\n",
        "    model = model,\n",
        "\n",
        ")\n",
        "result = await Runner.run(agent,\"are you working?\")\n",
        "print(result.final_output)\n",
        "\n"
      ],
      "metadata": {
        "id": "pq8JyIKGUrLg"
      },
      "execution_count": null,
      "outputs": []
    },
    {
      "cell_type": "markdown",
      "source": [
        "**getting Formated output using pydantic library**"
      ],
      "metadata": {
        "id": "4OWh2idJ7QPB"
      }
    },
    {
      "cell_type": "code",
      "source": [
        "class Recipe(BaseModel):\n",
        "  title:str\n",
        "  ingredients:list[str]\n",
        "  instructions:list[str]\n",
        "  cooking_time:int\n",
        "\n",
        "recipe_agent = Agent(\n",
        "    name = \"recipe Agent\",\n",
        "    instructions=\"You are an agent for creating recipes.You will be given the name of food and your job is to output as an actual detailed recipe.The cooking time should be in minutes\",\n",
        "    model=model,\n",
        "    output_type=Recipe\n",
        ")\n",
        "\n",
        "response = await Runner.run(recipe_agent,\"biryani\")\n",
        "print(response.final_output)"
      ],
      "metadata": {
        "colab": {
          "base_uri": "https://localhost:8080/"
        },
        "id": "PM5vF7cnm4a7",
        "outputId": "a74ff662-b023-451f-faa2-93a5c989a892"
      },
      "execution_count": 81,
      "outputs": [
        {
          "output_type": "stream",
          "name": "stdout",
          "text": [
            "title='Chicken Biryani' ingredients=['2 cups basmati rice', '1 lb chicken or meat, cut into pieces', '2 large onions, thinly sliced', '2 tbsp ginger-garlic paste', '2 tomatoes, chopped', '1/2 cup mint leaves, chopped', '1/2 cup coriander leaves, chopped', '3-4 tbsp biryani masala', '1 tsp red chili powder (adjust to taste)', '1/2 tsp turmeric powder', '1 cup yogurt', 'Salt to taste', '4 tbsp oil or ghee', 'A pinch of saffron strands soaked in 2 tbsp of warm milk (optional)', 'Fried onions for garnish', 'Chopped coriander for garnish'] instructions=['Wash and soak the basmati rice for 30 minutes.', 'In a large pot, heat oil and add sliced onions. Fry until golden brown.', 'Add ginger-garlic paste and sauté for a minute. Add tomatoes, mint, and coriander leaves. Cook until tomatoes soften.', 'Add the chicken or meat, biryani masala, red chili powder, turmeric, and salt. Cook until the meat is browned.', 'Add yogurt and cook for a few more minutes.', \"Drain the rice and add it to the pot. Add water, ensuring it's about 1 inch above the rice level.\", 'Bring to a boil, then reduce heat to low, cover, and simmer for 20-25 minutes or until the rice is cooked and the water is absorbed.', 'Garnish with fried onions, chopped coriander, and a drizzle of saffron milk (optional).', 'Let it rest for 10 minutes before serving.'] cooking_time=60\n"
          ]
        }
      ]
    }
  ]
}