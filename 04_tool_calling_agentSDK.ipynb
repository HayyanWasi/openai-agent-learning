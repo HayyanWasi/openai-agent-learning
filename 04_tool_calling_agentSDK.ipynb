{
  "nbformat": 4,
  "nbformat_minor": 0,
  "metadata": {
    "colab": {
      "provenance": [],
      "mount_file_id": "1gtNTLZx4FnwckRbn-WMqH5__DQ-mRQOC",
      "authorship_tag": "ABX9TyMwDjaGC0kXohqWBLjhsPlf",
      "include_colab_link": true
    },
    "kernelspec": {
      "name": "python3",
      "display_name": "Python 3"
    },
    "language_info": {
      "name": "python"
    }
  },
  "cells": [
    {
      "cell_type": "markdown",
      "metadata": {
        "id": "view-in-github",
        "colab_type": "text"
      },
      "source": [
        "<a href=\"https://colab.research.google.com/github/HayyanWasi/openai-agent-learning/blob/main/04_tool_calling_agentSDK.ipynb\" target=\"_parent\"><img src=\"https://colab.research.google.com/assets/colab-badge.svg\" alt=\"Open In Colab\"/></a>"
      ]
    },
    {
      "cell_type": "markdown",
      "source": [
        "#  **Tool Calling**"
      ],
      "metadata": {
        "id": "XQtEqeDnu0O9"
      }
    },
    {
      "cell_type": "markdown",
      "source": [
        "tool calling are components of sdk that allow agents to perform actions such as web searching file searching interacting with other APIs or using a computer"
      ],
      "metadata": {
        "id": "st_7nIffe055"
      }
    },
    {
      "cell_type": "markdown",
      "source": [
        "# **BASIC AGENT STRUCTURE**"
      ],
      "metadata": {
        "id": "xxfhprG6hOKs"
      }
    },
    {
      "cell_type": "code",
      "execution_count": null,
      "metadata": {
        "id": "c9VmSxxf95i5"
      },
      "outputs": [],
      "source": [
        "!pip install -Uq openai-agents openai google-generativeai openai-agents python-dotenv"
      ]
    },
    {
      "cell_type": "code",
      "source": [
        "import nest_asyncio\n",
        "nest_asyncio.apply()"
      ],
      "metadata": {
        "id": "2ZaG_qi-ownC"
      },
      "execution_count": 5,
      "outputs": []
    },
    {
      "cell_type": "code",
      "source": [
        "import os\n",
        "from agents import Agent, Runner, AsyncOpenAI, OpenAIChatCompletionsModel\n",
        "\n",
        "from agents.run import RunConfig\n",
        "\n",
        "from google.colab import userdata\n",
        "gemini_api_key = userdata.get('GEMINI_API_KEY')\n",
        "\n",
        "if not gemini_api_key:\n",
        "  raise ValueError(\"GEMINI_API_KEY not found in userdata\")\n",
        "\n",
        "external_client = AsyncOpenAI(\n",
        "    api_key = gemini_api_key,\n",
        "    base_url=\"https://generativelanguage.googleapis.com/v1beta\",\n",
        ")\n",
        "model = OpenAIChatCompletionsModel(\n",
        "    model = \"gemini-2.0-flash\",\n",
        "    openai_client=external_client\n",
        ")\n",
        "config = RunConfig(\n",
        "    model=model,\n",
        "    model_provider=external_client,\n",
        "    tracing_disabled=(True)\n",
        ")"
      ],
      "metadata": {
        "id": "j9Ew2MCYo6Uv"
      },
      "execution_count": 8,
      "outputs": []
    },
    {
      "cell_type": "markdown",
      "source": [
        "# **HOSTED TOOLS**\n",
        "> They are built in functions\n",
        "> **They are of 3 types**\n",
        "\n",
        "1. WebSearchTool-allow agent to   perform  live web searching\n",
        "\n",
        "2. FileSearchTool-for taking information from vector stores\n",
        "\n",
        "3. ComputerTool-enable automation task on your computer\n"
      ],
      "metadata": {
        "id": "G9ckVrSLfLJn"
      }
    },
    {
      "cell_type": "markdown",
      "source": [
        "Tool name is name of function\n",
        "descripton for agent is comes from docstring\n",
        "sechema is automatically generated from arguments\n",
        "description of input is also comes from docstring"
      ],
      "metadata": {
        "id": "_Auks8NAcUn0"
      }
    },
    {
      "cell_type": "code",
      "source": [
        "from agents import function_tool\n",
        "\n",
        "@function_tool\n",
        "def get_weather(city:str)-> str:           #function name is taken as tool name\n",
        "  print(f\"getting weather for {city}\")     #description comes from docstrings\n",
        "  return f\"the weather in {city} is sunny\" #schema is generated from arguments\n",
        "\n",
        "\n",
        "@function_tool\n",
        "def get_temperature(city:str)->str:\n",
        "  print(f\"getting temperature for {city}\")\n",
        "  return \"70 degrees\"\n",
        "\n",
        "agent = Agent(\n",
        "      name=\"weather agent\",\n",
        "      instructions =\"you are the local weather agent.YOur are given a city and you need to tell the weather and temperature.\",\n",
        "      tools=[get_weather, get_temperature], #this registers function as a tool.Agent will automaticlly decide when to call this tool based on user's query this is part of tool calling mechanism in agent SDK\n",
        "      model = model\n",
        "  )\n",
        "\n",
        "result = await Runner.run(agent,\"temp in karachi\")\n",
        "print(result.final_output)\n",
        "\n"
      ],
      "metadata": {
        "id": "YMNDdUXl2ZVK",
        "colab": {
          "base_uri": "https://localhost:8080/"
        },
        "outputId": "c594b014-3caa-41a1-82b3-30e14ae95a3a"
      },
      "execution_count": 10,
      "outputs": [
        {
          "output_type": "stream",
          "name": "stdout",
          "text": [
            "getting temperature for karachi\n",
            "The temperature in Karachi is 70 degrees.\n",
            "\n"
          ]
        }
      ]
    },
    {
      "cell_type": "markdown",
      "source": [
        "# **WEB SEARCH TOOL**\n",
        "used for web searching\n",
        "\n",
        "For Hosting tool openai's api is required"
      ],
      "metadata": {
        "id": "ikvH0cATxqXg"
      }
    },
    {
      "cell_type": "code",
      "source": [
        "# from agents import WebSearchTool, Agent, Runner\n",
        "\n",
        "# # Create an agent that uses the hosted WebSearchTool\n",
        "# news_agent = Agent(\n",
        "#     name=\"News Reporter\",\n",
        "#     instructions=\"You're a news reporter. Find recent news articles about Pakistan politics.\",\n",
        "#     tools=[WebSearchTool()],\n",
        "#     model=model\n",
        "# )\n",
        "\n",
        "# # Run the agent with a query\n",
        "# news_result = await Runner.run(news_agent, \"Find recent news about Pakistan politics\")\n",
        "# print(news_result.final_output)\n"
      ],
      "metadata": {
        "id": "SS-ehciFwg4g"
      },
      "execution_count": null,
      "outputs": []
    }
  ]
}